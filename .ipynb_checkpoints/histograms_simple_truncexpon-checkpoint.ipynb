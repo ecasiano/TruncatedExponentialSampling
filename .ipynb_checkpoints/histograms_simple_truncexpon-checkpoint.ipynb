{
 "cells": [
  {
   "cell_type": "code",
   "execution_count": 134,
   "metadata": {},
   "outputs": [],
   "source": [
    "import numpy as np\n",
    "import matplotlib.pyplot as plt\n",
    "import scipy.integrate as integrate"
   ]
  },
  {
   "cell_type": "code",
   "execution_count": 92,
   "metadata": {},
   "outputs": [],
   "source": [
    "# Load all data\n",
    "τ2 = np.loadtxt(\"./data/0.300000_0.750000_5.000000_samples0.dat\")"
   ]
  },
  {
   "cell_type": "code",
   "execution_count": 144,
   "metadata": {},
   "outputs": [],
   "source": [
    "def P(τ,a,b,c):\n",
    "    Z = 1.0 - np.exp(-c*(b-a))\n",
    "    return (1/Z)*c*np.exp(-c*(τ-a));\n",
    "\n",
    "def P_times_tau(τ,a,b,c):\n",
    "    Z = 1.0 - np.exp(-c*(b-a))\n",
    "    return τ*(1/Z)*c*np.exp(-c*(τ-a));"
   ]
  },
  {
   "cell_type": "code",
   "execution_count": 115,
   "metadata": {},
   "outputs": [],
   "source": [
    "a,b,c = 0.3,0.75,5"
   ]
  },
  {
   "cell_type": "code",
   "execution_count": 116,
   "metadata": {},
   "outputs": [
    {
     "data": {
      "text/plain": [
       "array([0.3       , 0.30454545, 0.30909091, 0.31363636, 0.31818182,\n",
       "       0.32272727, 0.32727273, 0.33181818, 0.33636364, 0.34090909,\n",
       "       0.34545455, 0.35      , 0.35454545, 0.35909091, 0.36363636,\n",
       "       0.36818182, 0.37272727, 0.37727273, 0.38181818, 0.38636364,\n",
       "       0.39090909, 0.39545455, 0.4       , 0.40454545, 0.40909091,\n",
       "       0.41363636, 0.41818182, 0.42272727, 0.42727273, 0.43181818,\n",
       "       0.43636364, 0.44090909, 0.44545455, 0.45      , 0.45454545,\n",
       "       0.45909091, 0.46363636, 0.46818182, 0.47272727, 0.47727273,\n",
       "       0.48181818, 0.48636364, 0.49090909, 0.49545455, 0.5       ,\n",
       "       0.50454545, 0.50909091, 0.51363636, 0.51818182, 0.52272727,\n",
       "       0.52727273, 0.53181818, 0.53636364, 0.54090909, 0.54545455,\n",
       "       0.55      , 0.55454545, 0.55909091, 0.56363636, 0.56818182,\n",
       "       0.57272727, 0.57727273, 0.58181818, 0.58636364, 0.59090909,\n",
       "       0.59545455, 0.6       , 0.60454545, 0.60909091, 0.61363636,\n",
       "       0.61818182, 0.62272727, 0.62727273, 0.63181818, 0.63636364,\n",
       "       0.64090909, 0.64545455, 0.65      , 0.65454545, 0.65909091,\n",
       "       0.66363636, 0.66818182, 0.67272727, 0.67727273, 0.68181818,\n",
       "       0.68636364, 0.69090909, 0.69545455, 0.7       , 0.70454545,\n",
       "       0.70909091, 0.71363636, 0.71818182, 0.72272727, 0.72727273,\n",
       "       0.73181818, 0.73636364, 0.74090909, 0.74545455, 0.75      ])"
      ]
     },
     "execution_count": 116,
     "metadata": {},
     "output_type": "execute_result"
    }
   ],
   "source": [
    "np.linspace(0.3,0.75,100)"
   ]
  },
  {
   "cell_type": "code",
   "execution_count": 130,
   "metadata": {},
   "outputs": [],
   "source": [
    "τ_fit = np.linspace(a,b,1000)"
   ]
  },
  {
   "cell_type": "markdown",
   "metadata": {},
   "source": [
    "### Sampling $\\tau$ from simple exponential distribution"
   ]
  },
  {
   "cell_type": "code",
   "execution_count": 131,
   "metadata": {},
   "outputs": [
    {
     "data": {
      "image/png": "[encoded data removed]",
      "text/plain": [
       "<Figure size 432x288 with 1 Axes>"
      ]
     },
     "metadata": {
      "needs_background": "light"
     },
     "output_type": "display_data"
    }
   ],
   "source": [
    "plt.plot(τ_fit,P(τ_fit,a,b,c))\n",
    "plt.hist(τ2, density=True, bins=100,label=r'$c<0$');  # density=False would make counts\n",
    "plt.xlabel(r'$\\tau_2$');\n",
    "plt.legend();"
   ]
  },
  {
   "cell_type": "code",
   "execution_count": 143,
   "metadata": {},
   "outputs": [
    {
     "data": {
      "text/plain": [
       "(0.9999999999999999, 1.1102230246251564e-14)"
      ]
     },
     "execution_count": 143,
     "metadata": {},
     "output_type": "execute_result"
    }
   ],
   "source": [
    "# Check normalization\n",
    "integrate.quad(P,a,b,args=(a,b,c))"
   ]
  },
  {
   "cell_type": "code",
   "execution_count": 145,
   "metadata": {},
   "outputs": [
    {
     "data": {
      "text/plain": [
       "(0.4469823273631637, 4.962500714391235e-15)"
      ]
     },
     "execution_count": 145,
     "metadata": {},
     "output_type": "execute_result"
    }
   ],
   "source": [
    "# Compute \"exact\" average of time\n",
    "integrate.quad(P_times_tau,a,b,args=(a,b,c))"
   ]
  },
  {
   "cell_type": "markdown",
   "metadata": {},
   "source": [
    "### $\\tau_1$ & $\\tau_2$ sampling for $c>0$"
   ]
  },
  {
   "cell_type": "code",
   "execution_count": null,
   "metadata": {},
   "outputs": [],
   "source": [
    "plt.hist(τ1_cpos, density=True, bins=30,label=r'$c>0$');  # density=False would make counts\n",
    "plt.xlabel(r'$\\tau_1$');\n",
    "plt.legend();"
   ]
  },
  {
   "cell_type": "code",
   "execution_count": null,
   "metadata": {},
   "outputs": [],
   "source": [
    "plt.hist(τ2_cpos, density=True, bins=30,label=r'$c>0$');  # density=False would make counts\n",
    "plt.xlabel(r'$\\tau_2$');\n",
    "plt.legend();"
   ]
  },
  {
   "cell_type": "markdown",
   "metadata": {},
   "source": [
    "### $\\tau_1 | \\tau_2$ heatmap"
   ]
  },
  {
   "cell_type": "code",
   "execution_count": null,
   "metadata": {},
   "outputs": [],
   "source": [
    "plt.hist2d(τ1_cneg,τ2_cneg,density=True,bins=30)\n",
    "plt.colorbar()\n",
    "plt.xlabel(r\"$\\tau_1$\")\n",
    "plt.ylabel(r\"$\\tau_2$\");\n",
    "plt.title(r\"$c<0$\");\n",
    "plt.savefig(\"0.100000_1.300000_-0.500000_sampled.pdf\",dpi=400)"
   ]
  },
  {
   "cell_type": "code",
   "execution_count": null,
   "metadata": {},
   "outputs": [],
   "source": [
    "plt.hist2d(τ1_cpos,τ2_cpos,density=True,bins=30)\n",
    "plt.colorbar()\n",
    "plt.xlabel(r\"$\\tau_1$\")\n",
    "plt.ylabel(r\"$\\tau_2$\");\n",
    "plt.title(r\"$c>0$\");\n",
    "plt.savefig(\"0.100000_1.300000_0.500000_sampled.pdf\",dpi=400)"
   ]
  },
  {
   "cell_type": "code",
   "execution_count": null,
   "metadata": {},
   "outputs": [],
   "source": [
    "def _W(τ1,τ2,a,b,c):\n",
    "    Z = (np.exp(c*(b-a))+a*c-b*c-1)/c**2\n",
    "    if (τ2<τ1): \n",
    "        return 0\n",
    "    else:\n",
    "        return np.exp(c*(τ2-τ1))/Z\n",
    "\n",
    "# Vectorize function so it's \"numpy aware\"\n",
    "W = np.vectorize(_W)"
   ]
  },
  {
   "cell_type": "markdown",
   "metadata": {},
   "source": [
    "### Compute exact 2D Distribution"
   ]
  },
  {
   "cell_type": "code",
   "execution_count": null,
   "metadata": {},
   "outputs": [],
   "source": [
    "# Set a,b,c (should match file name)\n",
    "a = 0.1\n",
    "b = 1.3\n",
    "c = 0.5\n",
    "\n",
    "_τ1,_τ2 = np.linspace(a,b,30),np.linspace(a,b,30)\n",
    "\n",
    "# Create meshgrid\n",
    "τ1,τ2 = np.meshgrid(_τ1,_τ2)"
   ]
  },
  {
   "cell_type": "code",
   "execution_count": null,
   "metadata": {},
   "outputs": [],
   "source": [
    "W_cneg = W(τ1,τ2,a,b,-c);"
   ]
  },
  {
   "cell_type": "code",
   "execution_count": null,
   "metadata": {},
   "outputs": [],
   "source": [
    "# Plot\n",
    "plt.imshow(W_cneg,origin='lower',extent=[a,b,a,b]);\n",
    "plt.xlabel(r'$\\tau_1$')\n",
    "plt.ylabel(r'$\\tau_2$')\n",
    "plt.colorbar();\n",
    "plt.title(r'$c<0$');\n",
    "plt.savefig(\"0.100000_1.300000_0.-500000_exact.pdf\",dpi=400)"
   ]
  },
  {
   "cell_type": "code",
   "execution_count": null,
   "metadata": {},
   "outputs": [],
   "source": [
    "W_cpos = W(τ1,τ2,a,b,c);"
   ]
  },
  {
   "cell_type": "code",
   "execution_count": null,
   "metadata": {},
   "outputs": [],
   "source": [
    "# Plot\n",
    "plt.imshow(W_cpos,origin='lower',extent=[a,b,a,b]);\n",
    "plt.xlabel(r'$\\tau_1$')\n",
    "plt.ylabel(r'$\\tau_2$')\n",
    "plt.colorbar();\n",
    "plt.title(r'$c>0$');\n",
    "plt.savefig(\"0.100000_1.300000_0.500000_exact.pdf\",dpi=400)"
   ]
  },
  {
   "cell_type": "markdown",
   "metadata": {},
   "source": [
    "### Compute relative errors"
   ]
  },
  {
   "cell_type": "code",
   "execution_count": null,
   "metadata": {},
   "outputs": [],
   "source": [
    "W_cneg.shape"
   ]
  },
  {
   "cell_type": "code",
   "execution_count": null,
   "metadata": {},
   "outputs": [],
   "source": [
    "x_bins = np.linspace(a,b,31)\n",
    "y_bins = np.linspace(a,b,31)\n",
    "H = np.histogram2d(τ1_cneg, τ2_cneg, bins=(x_bins, y_bins),density=True)\n",
    "H_cneg = H[0].T"
   ]
  },
  {
   "cell_type": "code",
   "execution_count": null,
   "metadata": {},
   "outputs": [],
   "source": [
    "# Plot\n",
    "# relErr_cneg = np.nan_to_num(np.abs(W_cneg-H_cneg)/W_cneg);\n",
    "relErr_cneg = np.nan_to_num((W_cneg-H_cneg)/W_cneg);\n",
    "plt.imshow(relErr_cneg,origin='lower',extent=[a,b,a,b]);\n",
    "plt.xlabel(r'$\\tau_1$')\n",
    "plt.ylabel(r'$\\tau_2$')\n",
    "plt.colorbar();\n",
    "plt.title(r'$c<0$');\n",
    "# plt.savefig(\"0.100000_1.300000_-0.500000_relativeError.pdf\",dpi=400)"
   ]
  },
  {
   "cell_type": "code",
   "execution_count": 6,
   "metadata": {},
   "outputs": [
    {
     "ename": "NameError",
     "evalue": "name 'relErr_cneg' is not defined",
     "output_type": "error",
     "traceback": [
      "\u001b[0;31m---------------------------------------------------------------------------\u001b[0m",
      "\u001b[0;31mNameError\u001b[0m                                 Traceback (most recent call last)",
      "\u001b[0;32m<ipython-input-6-70a22d769394>\u001b[0m in \u001b[0;36m<module>\u001b[0;34m\u001b[0m\n\u001b[0;32m----> 1\u001b[0;31m \u001b[0mrelErr_cneg\u001b[0m \u001b[0;34m=\u001b[0m \u001b[0mnp\u001b[0m\u001b[0;34m.\u001b[0m\u001b[0mma\u001b[0m\u001b[0;34m.\u001b[0m\u001b[0mmasked_array\u001b[0m\u001b[0;34m(\u001b[0m\u001b[0mrelErr_cneg\u001b[0m\u001b[0;34m,\u001b[0m\u001b[0mmask\u001b[0m\u001b[0;34m=\u001b[0m\u001b[0mrelErr_cneg\u001b[0m\u001b[0;34m==\u001b[0m\u001b[0mnp\u001b[0m\u001b[0;34m.\u001b[0m\u001b[0mdiag\u001b[0m\u001b[0;34m(\u001b[0m\u001b[0mrelErr_cneg\u001b[0m\u001b[0;34m)\u001b[0m\u001b[0;34m)\u001b[0m\u001b[0;34m\u001b[0m\u001b[0;34m\u001b[0m\u001b[0m\n\u001b[0m\u001b[1;32m      2\u001b[0m \u001b[0mplt\u001b[0m\u001b[0;34m.\u001b[0m\u001b[0mimshow\u001b[0m\u001b[0;34m(\u001b[0m\u001b[0;34m(\u001b[0m\u001b[0mrelErr_cneg\u001b[0m\u001b[0;34m)\u001b[0m\u001b[0;34m,\u001b[0m\u001b[0morigin\u001b[0m\u001b[0;34m=\u001b[0m\u001b[0;34m'lower'\u001b[0m\u001b[0;34m,\u001b[0m\u001b[0mextent\u001b[0m\u001b[0;34m=\u001b[0m\u001b[0;34m[\u001b[0m\u001b[0ma\u001b[0m\u001b[0;34m,\u001b[0m\u001b[0mb\u001b[0m\u001b[0;34m,\u001b[0m\u001b[0ma\u001b[0m\u001b[0;34m,\u001b[0m\u001b[0mb\u001b[0m\u001b[0;34m]\u001b[0m\u001b[0;34m)\u001b[0m\u001b[0;34m;\u001b[0m\u001b[0;34m\u001b[0m\u001b[0;34m\u001b[0m\u001b[0m\n\u001b[1;32m      3\u001b[0m \u001b[0mplt\u001b[0m\u001b[0;34m.\u001b[0m\u001b[0mxlabel\u001b[0m\u001b[0;34m(\u001b[0m\u001b[0;34mr'$\\tau_1$'\u001b[0m\u001b[0;34m)\u001b[0m\u001b[0;34m\u001b[0m\u001b[0;34m\u001b[0m\u001b[0m\n\u001b[1;32m      4\u001b[0m \u001b[0mplt\u001b[0m\u001b[0;34m.\u001b[0m\u001b[0mylabel\u001b[0m\u001b[0;34m(\u001b[0m\u001b[0;34mr'$\\tau_2$'\u001b[0m\u001b[0;34m)\u001b[0m\u001b[0;34m\u001b[0m\u001b[0;34m\u001b[0m\u001b[0m\n\u001b[1;32m      5\u001b[0m \u001b[0mplt\u001b[0m\u001b[0;34m.\u001b[0m\u001b[0mcolorbar\u001b[0m\u001b[0;34m(\u001b[0m\u001b[0;34m)\u001b[0m\u001b[0;34m;\u001b[0m\u001b[0;34m\u001b[0m\u001b[0;34m\u001b[0m\u001b[0m\n",
      "\u001b[0;31mNameError\u001b[0m: name 'relErr_cneg' is not defined"
     ]
    }
   ],
   "source": [
    "relErr_cneg = np.ma.masked_array(relErr_cneg,mask=relErr_cneg==np.diag(relErr_cneg))\n",
    "plt.imshow((relErr_cneg),origin='lower',extent=[a,b,a,b]);\n",
    "plt.xlabel(r'$\\tau_1$')\n",
    "plt.ylabel(r'$\\tau_2$')\n",
    "plt.colorbar();\n",
    "plt.title(r'$c<0$');\n",
    "plt.savefig(\"0.100000_1.300000_-0.500000_relativeError_masked_noAbs.pdf\",dpi=400)"
   ]
  },
  {
   "cell_type": "code",
   "execution_count": null,
   "metadata": {},
   "outputs": [],
   "source": [
    "x = np.array([1,1,1])\n",
    "y = np.array([1,1,0])\n",
    "x == y"
   ]
  },
  {
   "cell_type": "markdown",
   "metadata": {},
   "source": [
    "Now for $c>0$"
   ]
  },
  {
   "cell_type": "code",
   "execution_count": null,
   "metadata": {},
   "outputs": [],
   "source": [
    "H = np.histogram2d(τ1_cpos, τ2_cpos, bins=(x_bins, y_bins),density=True)\n",
    "H_cpos = H[0].T"
   ]
  },
  {
   "cell_type": "code",
   "execution_count": null,
   "metadata": {},
   "outputs": [],
   "source": [
    "_noAbs# Plot\n",
    "relErr_cpos = np.nan_to_num((W_cpos-H_cpos)/W_cpos)\n",
    "relErr_cpos = np.ma.masked_array((relErr_cpos),mask=relErr_cpos==np.diag(relErr_cpos))\n",
    "plt.imshow(relErr_cpos,origin='lower',extent=[a,b,a,b]);\n",
    "plt.xlabel(r'$\\tau_1$')\n",
    "plt.ylabel(r'$\\tau_2$')\n",
    "plt.colorbar();\n",
    "plt.title(r'$c>0$');\n",
    "plt.savefig(\"0.100000_1.300000_0.500000_relativeError_masked_noAbs.pdf\",dpi=400)"
   ]
  },
  {
   "cell_type": "code",
   "execution_count": null,
   "metadata": {},
   "outputs": [],
   "source": []
  },
  {
   "cell_type": "code",
   "execution_count": null,
   "metadata": {},
   "outputs": [],
   "source": []
  },
  {
   "cell_type": "code",
   "execution_count": null,
   "metadata": {},
   "outputs": [],
   "source": []
  }
 ],
 "metadata": {
  "kernelspec": {
   "display_name": "Python 3",
   "language": "python",
   "name": "python3"
  },
  "language_info": {
   "codemirror_mode": {
    "name": "ipython",
    "version": 3
   },
   "file_extension": ".py",
   "mimetype": "text/x-python",
   "name": "python",
   "nbconvert_exporter": "python",
   "pygments_lexer": "ipython3",
   "version": "3.8.5"
  }
 },
 "nbformat": 4,
 "nbformat_minor": 4
}
