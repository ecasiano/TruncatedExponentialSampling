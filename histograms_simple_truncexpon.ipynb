{
 "cells": [
  {
   "cell_type": "code",
   "execution_count": 84,
   "metadata": {},
   "outputs": [],
   "source": [
    "import numpy as np\n",
    "import matplotlib.pyplot as plt\n",
    "import scipy.integrate as integrate"
   ]
  },
  {
   "cell_type": "code",
   "execution_count": 85,
   "metadata": {},
   "outputs": [],
   "source": [
    "# Load all data\n",
    "τ2 = np.loadtxt(\"./data/0.300000_0.750000_5.000000_samples0.dat\")"
   ]
  },
  {
   "cell_type": "code",
   "execution_count": 86,
   "metadata": {},
   "outputs": [],
   "source": [
    "def P(τ,a,b,c):\n",
    "    Z = 1.0 - np.exp(-c*(b-a))\n",
    "    return (1/Z)*c*np.exp(-c*(τ-a));\n",
    "\n",
    "def P_times_tau(τ,a,b,c):\n",
    "    Z = 1.0 - np.exp(-c*(b-a))\n",
    "    return τ*(1/Z)*c*np.exp(-c*(τ-a));"
   ]
  },
  {
   "cell_type": "code",
   "execution_count": 87,
   "metadata": {},
   "outputs": [],
   "source": [
    "a,b,c = 0.3,0.75,5"
   ]
  },
  {
   "cell_type": "code",
   "execution_count": 88,
   "metadata": {},
   "outputs": [],
   "source": [
    "τ_fit = np.linspace(a,b,1000)"
   ]
  },
  {
   "cell_type": "markdown",
   "metadata": {},
   "source": [
    "### Rejection sampling $\\tau$ from simple exponential distribution"
   ]
  },
  {
   "cell_type": "code",
   "execution_count": null,
   "metadata": {},
   "outputs": [],
   "source": []
  },
  {
   "cell_type": "code",
   "execution_count": 89,
   "metadata": {},
   "outputs": [
    {
     "data": {
      "image/png": "[encoded data removed]",
      "text/plain": [
       "<Figure size 432x288 with 1 Axes>"
      ]
     },
     "metadata": {
      "needs_background": "light"
     },
     "output_type": "display_data"
    }
   ],
   "source": [
    "plt.plot(τ_fit,P(τ_fit,a,b,c))\n",
    "plt.hist(τ2, density=True, bins=100,label=r'$c<0$');  # density=False would make counts\n",
    "plt.xlabel(r'$\\tau_2$');\n",
    "plt.legend();"
   ]
  },
  {
   "cell_type": "code",
   "execution_count": 90,
   "metadata": {},
   "outputs": [
    {
     "data": {
      "text/plain": [
       "(0.9999999999999999, 1.1102230246251564e-14)"
      ]
     },
     "execution_count": 90,
     "metadata": {},
     "output_type": "execute_result"
    }
   ],
   "source": [
    "# Check normalization\n",
    "integrate.quad(P,a,b,args=(a,b,c))"
   ]
  },
  {
   "cell_type": "code",
   "execution_count": 91,
   "metadata": {},
   "outputs": [
    {
     "name": "stdout",
     "output_type": "stream",
     "text": [
      "Average sampled time with rejection:  0.4425782715163813\n"
     ]
    }
   ],
   "source": [
    "# Compute average time from histogram\n",
    "τ2_counts, τ2_edges = np.histogram(τ2,bins=1000)\n",
    "τ2_probs = np.divide(τ2_counts,np.sum(τ2_counts))\n",
    "\n",
    "τ_mean_rejection = np.sum(τ2_probs*τ2_edges[:-1])\n",
    "print(\"Average sampled time with rejection: \",τ_mean_rejection)"
   ]
  },
  {
   "cell_type": "markdown",
   "metadata": {},
   "source": [
    "### Direct sampling $\\tau$ from simple exponential distribution"
   ]
  },
  {
   "cell_type": "code",
   "execution_count": 92,
   "metadata": {},
   "outputs": [],
   "source": [
    "# Load all data\n",
    "τ2_direct = np.loadtxt(\"./data/0.300000_0.750000_5.000000_samples1.dat\")"
   ]
  },
  {
   "cell_type": "code",
   "execution_count": 93,
   "metadata": {},
   "outputs": [
    {
     "data": {
      "image/png": "[encoded data removed]",
      "text/plain": [
       "<Figure size 432x288 with 1 Axes>"
      ]
     },
     "metadata": {
      "needs_background": "light"
     },
     "output_type": "display_data"
    }
   ],
   "source": [
    "plt.plot(τ_fit,P(τ_fit,a,b,c))\n",
    "plt.hist(τ2_direct, density=True, bins=100,label=r'$c<0$');  # density=False would make counts\n",
    "plt.xlabel(r'$\\tau_2$');\n",
    "plt.legend();"
   ]
  },
  {
   "cell_type": "code",
   "execution_count": 94,
   "metadata": {},
   "outputs": [
    {
     "name": "stdout",
     "output_type": "stream",
     "text": [
      "Average sampled time with direct:  0.44606091958981525\n"
     ]
    }
   ],
   "source": [
    "# Compute average time from histogram\n",
    "τ2_counts, τ2_edges = np.histogram(τ2_direct,bins=1000)\n",
    "τ2_probs = np.divide(τ2_counts,np.sum(τ2_counts))\n",
    "\n",
    "τ_mean_direct = np.sum(τ2_probs*τ2_edges[:-1])\n",
    "print(\"Average sampled time with direct: \",np.sum(τ2_probs*τ2_edges[:-1]))"
   ]
  },
  {
   "cell_type": "code",
   "execution_count": 95,
   "metadata": {},
   "outputs": [
    {
     "data": {
      "text/plain": [
       "(0.4469823273631637, 4.962500714391235e-15)"
      ]
     },
     "execution_count": 95,
     "metadata": {},
     "output_type": "execute_result"
    }
   ],
   "source": [
    "# Compute \"exact\" average of time\n",
    "τ_mean_exact = integrate.quad(P_times_tau,a,b,args=(a,b,c))\n",
    "τ_mean_exact"
   ]
  },
  {
   "cell_type": "code",
   "execution_count": 96,
   "metadata": {},
   "outputs": [],
   "source": [
    "rejection_error = np.abs((τ_mean_exact - τ_mean_rejection) / τ_mean_exact)[0]\n",
    "direct_error = np.abs((τ_mean_exact - τ_mean_direct) / τ_mean_exact)[0]"
   ]
  },
  {
   "cell_type": "code",
   "execution_count": 97,
   "metadata": {},
   "outputs": [
    {
     "name": "stdout",
     "output_type": "stream",
     "text": [
      "Rejection Error: 0.0099\n",
      "Direct Error: 0.0021\n"
     ]
    }
   ],
   "source": [
    "print(\"Rejection Error: %.4f\"%(rejection_error))\n",
    "print(\"Direct Error: %.4f\"%(direct_error))"
   ]
  },
  {
   "cell_type": "markdown",
   "metadata": {},
   "source": [
    "# Autocorrelation time comparison"
   ]
  },
  {
   "cell_type": "code",
   "execution_count": null,
   "metadata": {},
   "outputs": [],
   "source": []
  },
  {
   "cell_type": "code",
   "execution_count": null,
   "metadata": {},
   "outputs": [],
   "source": []
  },
  {
   "cell_type": "code",
   "execution_count": null,
   "metadata": {},
   "outputs": [],
   "source": []
  },
  {
   "cell_type": "code",
   "execution_count": null,
   "metadata": {},
   "outputs": [],
   "source": []
  },
  {
   "cell_type": "code",
   "execution_count": null,
   "metadata": {},
   "outputs": [],
   "source": []
  },
  {
   "cell_type": "code",
   "execution_count": null,
   "metadata": {},
   "outputs": [],
   "source": []
  },
  {
   "cell_type": "code",
   "execution_count": null,
   "metadata": {},
   "outputs": [],
   "source": []
  },
  {
   "cell_type": "code",
   "execution_count": null,
   "metadata": {},
   "outputs": [],
   "source": []
  },
  {
   "cell_type": "code",
   "execution_count": null,
   "metadata": {},
   "outputs": [],
   "source": []
  },
  {
   "cell_type": "code",
   "execution_count": null,
   "metadata": {},
   "outputs": [],
   "source": []
  },
  {
   "cell_type": "code",
   "execution_count": null,
   "metadata": {},
   "outputs": [],
   "source": []
  },
  {
   "cell_type": "code",
   "execution_count": null,
   "metadata": {},
   "outputs": [],
   "source": []
  },
  {
   "cell_type": "markdown",
   "metadata": {},
   "source": [
    "### $\\tau_1$ & $\\tau_2$ sampling for $c>0$"
   ]
  },
  {
   "cell_type": "code",
   "execution_count": null,
   "metadata": {},
   "outputs": [],
   "source": [
    "plt.hist(τ1_cpos, density=True, bins=30,label=r'$c>0$');  # density=False would make counts\n",
    "plt.xlabel(r'$\\tau_1$');\n",
    "plt.legend();"
   ]
  },
  {
   "cell_type": "code",
   "execution_count": null,
   "metadata": {},
   "outputs": [],
   "source": [
    "plt.hist(τ2_cpos, density=True, bins=30,label=r'$c>0$');  # density=False would make counts\n",
    "plt.xlabel(r'$\\tau_2$');\n",
    "plt.legend();"
   ]
  },
  {
   "cell_type": "markdown",
   "metadata": {},
   "source": [
    "### $\\tau_1 | \\tau_2$ heatmap"
   ]
  },
  {
   "cell_type": "code",
   "execution_count": null,
   "metadata": {},
   "outputs": [],
   "source": [
    "plt.hist2d(τ1_cneg,τ2_cneg,density=True,bins=30)\n",
    "plt.colorbar()\n",
    "plt.xlabel(r\"$\\tau_1$\")\n",
    "plt.ylabel(r\"$\\tau_2$\");\n",
    "plt.title(r\"$c<0$\");\n",
    "plt.savefig(\"0.100000_1.300000_-0.500000_sampled.pdf\",dpi=400)"
   ]
  },
  {
   "cell_type": "code",
   "execution_count": null,
   "metadata": {},
   "outputs": [],
   "source": [
    "plt.hist2d(τ1_cpos,τ2_cpos,density=True,bins=30)\n",
    "plt.colorbar()\n",
    "plt.xlabel(r\"$\\tau_1$\")\n",
    "plt.ylabel(r\"$\\tau_2$\");\n",
    "plt.title(r\"$c>0$\");\n",
    "plt.savefig(\"0.100000_1.300000_0.500000_sampled.pdf\",dpi=400)"
   ]
  },
  {
   "cell_type": "code",
   "execution_count": null,
   "metadata": {},
   "outputs": [],
   "source": [
    "def _W(τ1,τ2,a,b,c):\n",
    "    Z = (np.exp(c*(b-a))+a*c-b*c-1)/c**2\n",
    "    if (τ2<τ1): \n",
    "        return 0\n",
    "    else:\n",
    "        return np.exp(c*(τ2-τ1))/Z\n",
    "\n",
    "# Vectorize function so it's \"numpy aware\"\n",
    "W = np.vectorize(_W)"
   ]
  },
  {
   "cell_type": "markdown",
   "metadata": {},
   "source": [
    "### Compute exact 2D Distribution"
   ]
  },
  {
   "cell_type": "code",
   "execution_count": null,
   "metadata": {},
   "outputs": [],
   "source": [
    "# Set a,b,c (should match file name)\n",
    "a = 0.1\n",
    "b = 1.3\n",
    "c = 0.5\n",
    "\n",
    "_τ1,_τ2 = np.linspace(a,b,30),np.linspace(a,b,30)\n",
    "\n",
    "# Create meshgrid\n",
    "τ1,τ2 = np.meshgrid(_τ1,_τ2)"
   ]
  },
  {
   "cell_type": "code",
   "execution_count": null,
   "metadata": {},
   "outputs": [],
   "source": [
    "W_cneg = W(τ1,τ2,a,b,-c);"
   ]
  },
  {
   "cell_type": "code",
   "execution_count": null,
   "metadata": {},
   "outputs": [],
   "source": [
    "# Plot\n",
    "plt.imshow(W_cneg,origin='lower',extent=[a,b,a,b]);\n",
    "plt.xlabel(r'$\\tau_1$')\n",
    "plt.ylabel(r'$\\tau_2$')\n",
    "plt.colorbar();\n",
    "plt.title(r'$c<0$');\n",
    "plt.savefig(\"0.100000_1.300000_0.-500000_exact.pdf\",dpi=400)"
   ]
  },
  {
   "cell_type": "code",
   "execution_count": null,
   "metadata": {},
   "outputs": [],
   "source": [
    "W_cpos = W(τ1,τ2,a,b,c);"
   ]
  },
  {
   "cell_type": "code",
   "execution_count": null,
   "metadata": {},
   "outputs": [],
   "source": [
    "# Plot\n",
    "plt.imshow(W_cpos,origin='lower',extent=[a,b,a,b]);\n",
    "plt.xlabel(r'$\\tau_1$')\n",
    "plt.ylabel(r'$\\tau_2$')\n",
    "plt.colorbar();\n",
    "plt.title(r'$c>0$');\n",
    "plt.savefig(\"0.100000_1.300000_0.500000_exact.pdf\",dpi=400)"
   ]
  },
  {
   "cell_type": "markdown",
   "metadata": {},
   "source": [
    "### Compute relative errors"
   ]
  },
  {
   "cell_type": "code",
   "execution_count": null,
   "metadata": {},
   "outputs": [],
   "source": [
    "W_cneg.shape"
   ]
  },
  {
   "cell_type": "code",
   "execution_count": null,
   "metadata": {},
   "outputs": [],
   "source": [
    "x_bins = np.linspace(a,b,31)\n",
    "y_bins = np.linspace(a,b,31)\n",
    "H = np.histogram2d(τ1_cneg, τ2_cneg, bins=(x_bins, y_bins),density=True)\n",
    "H_cneg = H[0].T"
   ]
  },
  {
   "cell_type": "code",
   "execution_count": null,
   "metadata": {},
   "outputs": [],
   "source": [
    "# Plot\n",
    "# relErr_cneg = np.nan_to_num(np.abs(W_cneg-H_cneg)/W_cneg);\n",
    "relErr_cneg = np.nan_to_num((W_cneg-H_cneg)/W_cneg);\n",
    "plt.imshow(relErr_cneg,origin='lower',extent=[a,b,a,b]);\n",
    "plt.xlabel(r'$\\tau_1$')\n",
    "plt.ylabel(r'$\\tau_2$')\n",
    "plt.colorbar();\n",
    "plt.title(r'$c<0$');\n",
    "# plt.savefig(\"0.100000_1.300000_-0.500000_relativeError.pdf\",dpi=400)"
   ]
  },
  {
   "cell_type": "code",
   "execution_count": 6,
   "metadata": {},
   "outputs": [
    {
     "ename": "NameError",
     "evalue": "name 'relErr_cneg' is not defined",
     "output_type": "error",
     "traceback": [
      "\u001b[0;31m---------------------------------------------------------------------------\u001b[0m",
      "\u001b[0;31mNameError\u001b[0m                                 Traceback (most recent call last)",
      "\u001b[0;32m<ipython-input-6-70a22d769394>\u001b[0m in \u001b[0;36m<module>\u001b[0;34m\u001b[0m\n\u001b[0;32m----> 1\u001b[0;31m \u001b[0mrelErr_cneg\u001b[0m \u001b[0;34m=\u001b[0m \u001b[0mnp\u001b[0m\u001b[0;34m.\u001b[0m\u001b[0mma\u001b[0m\u001b[0;34m.\u001b[0m\u001b[0mmasked_array\u001b[0m\u001b[0;34m(\u001b[0m\u001b[0mrelErr_cneg\u001b[0m\u001b[0;34m,\u001b[0m\u001b[0mmask\u001b[0m\u001b[0;34m=\u001b[0m\u001b[0mrelErr_cneg\u001b[0m\u001b[0;34m==\u001b[0m\u001b[0mnp\u001b[0m\u001b[0;34m.\u001b[0m\u001b[0mdiag\u001b[0m\u001b[0;34m(\u001b[0m\u001b[0mrelErr_cneg\u001b[0m\u001b[0;34m)\u001b[0m\u001b[0;34m)\u001b[0m\u001b[0;34m\u001b[0m\u001b[0;34m\u001b[0m\u001b[0m\n\u001b[0m\u001b[1;32m      2\u001b[0m \u001b[0mplt\u001b[0m\u001b[0;34m.\u001b[0m\u001b[0mimshow\u001b[0m\u001b[0;34m(\u001b[0m\u001b[0;34m(\u001b[0m\u001b[0mrelErr_cneg\u001b[0m\u001b[0;34m)\u001b[0m\u001b[0;34m,\u001b[0m\u001b[0morigin\u001b[0m\u001b[0;34m=\u001b[0m\u001b[0;34m'lower'\u001b[0m\u001b[0;34m,\u001b[0m\u001b[0mextent\u001b[0m\u001b[0;34m=\u001b[0m\u001b[0;34m[\u001b[0m\u001b[0ma\u001b[0m\u001b[0;34m,\u001b[0m\u001b[0mb\u001b[0m\u001b[0;34m,\u001b[0m\u001b[0ma\u001b[0m\u001b[0;34m,\u001b[0m\u001b[0mb\u001b[0m\u001b[0;34m]\u001b[0m\u001b[0;34m)\u001b[0m\u001b[0;34m;\u001b[0m\u001b[0;34m\u001b[0m\u001b[0;34m\u001b[0m\u001b[0m\n\u001b[1;32m      3\u001b[0m \u001b[0mplt\u001b[0m\u001b[0;34m.\u001b[0m\u001b[0mxlabel\u001b[0m\u001b[0;34m(\u001b[0m\u001b[0;34mr'$\\tau_1$'\u001b[0m\u001b[0;34m)\u001b[0m\u001b[0;34m\u001b[0m\u001b[0;34m\u001b[0m\u001b[0m\n\u001b[1;32m      4\u001b[0m \u001b[0mplt\u001b[0m\u001b[0;34m.\u001b[0m\u001b[0mylabel\u001b[0m\u001b[0;34m(\u001b[0m\u001b[0;34mr'$\\tau_2$'\u001b[0m\u001b[0;34m)\u001b[0m\u001b[0;34m\u001b[0m\u001b[0;34m\u001b[0m\u001b[0m\n\u001b[1;32m      5\u001b[0m \u001b[0mplt\u001b[0m\u001b[0;34m.\u001b[0m\u001b[0mcolorbar\u001b[0m\u001b[0;34m(\u001b[0m\u001b[0;34m)\u001b[0m\u001b[0;34m;\u001b[0m\u001b[0;34m\u001b[0m\u001b[0;34m\u001b[0m\u001b[0m\n",
      "\u001b[0;31mNameError\u001b[0m: name 'relErr_cneg' is not defined"
     ]
    }
   ],
   "source": [
    "relErr_cneg = np.ma.masked_array(relErr_cneg,mask=relErr_cneg==np.diag(relErr_cneg))\n",
    "plt.imshow((relErr_cneg),origin='lower',extent=[a,b,a,b]);\n",
    "plt.xlabel(r'$\\tau_1$')\n",
    "plt.ylabel(r'$\\tau_2$')\n",
    "plt.colorbar();\n",
    "plt.title(r'$c<0$');\n",
    "plt.savefig(\"0.100000_1.300000_-0.500000_relativeError_masked_noAbs.pdf\",dpi=400)"
   ]
  },
  {
   "cell_type": "code",
   "execution_count": null,
   "metadata": {},
   "outputs": [],
   "source": [
    "x = np.array([1,1,1])\n",
    "y = np.array([1,1,0])\n",
    "x == y"
   ]
  },
  {
   "cell_type": "markdown",
   "metadata": {},
   "source": [
    "Now for $c>0$"
   ]
  },
  {
   "cell_type": "code",
   "execution_count": null,
   "metadata": {},
   "outputs": [],
   "source": [
    "H = np.histogram2d(τ1_cpos, τ2_cpos, bins=(x_bins, y_bins),density=True)\n",
    "H_cpos = H[0].T"
   ]
  },
  {
   "cell_type": "code",
   "execution_count": null,
   "metadata": {},
   "outputs": [],
   "source": [
    "_noAbs# Plot\n",
    "relErr_cpos = np.nan_to_num((W_cpos-H_cpos)/W_cpos)\n",
    "relErr_cpos = np.ma.masked_array((relErr_cpos),mask=relErr_cpos==np.diag(relErr_cpos))\n",
    "plt.imshow(relErr_cpos,origin='lower',extent=[a,b,a,b]);\n",
    "plt.xlabel(r'$\\tau_1$')\n",
    "plt.ylabel(r'$\\tau_2$')\n",
    "plt.colorbar();\n",
    "plt.title(r'$c>0$');\n",
    "plt.savefig(\"0.100000_1.300000_0.500000_relativeError_masked_noAbs.pdf\",dpi=400)"
   ]
  },
  {
   "cell_type": "code",
   "execution_count": null,
   "metadata": {},
   "outputs": [],
   "source": []
  },
  {
   "cell_type": "code",
   "execution_count": null,
   "metadata": {},
   "outputs": [],
   "source": []
  },
  {
   "cell_type": "code",
   "execution_count": null,
   "metadata": {},
   "outputs": [],
   "source": []
  }
 ],
 "metadata": {
  "kernelspec": {
   "display_name": "Python 3",
   "language": "python",
   "name": "python3"
  },
  "language_info": {
   "codemirror_mode": {
    "name": "ipython",
    "version": 3
   },
   "file_extension": ".py",
   "mimetype": "text/x-python",
   "name": "python",
   "nbconvert_exporter": "python",
   "pygments_lexer": "ipython3",
   "version": "3.8.5"
  }
 },
 "nbformat": 4,
 "nbformat_minor": 4
}
